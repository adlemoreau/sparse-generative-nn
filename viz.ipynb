{
 "cells": [
  {
   "cell_type": "code",
   "execution_count": null,
   "id": "dc2d5124-600c-48d1-a394-96e3f79569d8",
   "metadata": {},
   "outputs": [],
   "source": [
    "from plyfile import PlyData\n",
    "import numpy as np\n",
    "import plotly.graph_objects as go\n",
    "from plotly.offline import iplot"
   ]
  },
  {
   "cell_type": "code",
   "execution_count": null,
   "id": "18365aaf-b668-4733-9378-c41b372be2c1",
   "metadata": {},
   "outputs": [],
   "source": [
    "# !python test_scene.py --help\n",
    "# !python test_scene.py --gpu 0 --input_data_path ./DATA/input_scans --target_data_path ./DATA/target_scans --test_file_list ../filelists/mp-rooms_test-scenes2.txt --model_path sgnn.pth --output ./output  --max_to_vis 20"
   ]
  },
  {
   "cell_type": "code",
   "execution_count": null,
   "id": "7c97370e-9061-4bb9-b03c-c95d6a55f2c8",
   "metadata": {},
   "outputs": [],
   "source": [
    "def load_ply_file(file_path):\n",
    "    \"\"\"Load a PLY file and extract vertices and faces.\"\"\"\n",
    "    ply_data = PlyData.read(file_path)\n",
    "    vertices = np.array([(vertex['x'], vertex['y'], vertex['z']) for vertex in ply_data['vertex']])\n",
    "    faces = np.array([list(face) for face in ply_data['face']['vertex_indices']])\n",
    "    return vertices, faces"
   ]
  },
  {
   "cell_type": "code",
   "execution_count": null,
   "id": "c51dfc1c-2594-4bbc-94e8-cbc3961e2fbb",
   "metadata": {},
   "outputs": [],
   "source": [
    "def display_3d_model(path_model):\n",
    "    \"\"\"Display a 3D model using Plotly.\"\"\"\n",
    "    \n",
    "    # Load models\n",
    "    if path_model.endswith('ply'):\n",
    "        vertices, faces = load_ply_file(path_model)\n",
    "    else:\n",
    "        return \"Wrong format, only ply files are supported.\"\n",
    "\n",
    "    print(len(vertices), len(faces))\n",
    "\n",
    "    # Extract x, y, z coordinates from vertices\n",
    "    x, y, z = vertices[:, 0], vertices[:, 1], vertices[:, 2]\n",
    "\n",
    "    mesh = go.Mesh3d(\n",
    "        x=x,\n",
    "        y=y,\n",
    "        z=z,\n",
    "        i=faces[:, 0],\n",
    "        j=faces[:, 1],\n",
    "        k=faces[:, 2],\n",
    "        opacity=1,\n",
    "        #color='rgba(0,0,0,0.5)'\n",
    "        color = 'skyblue'\n",
    "        )\n",
    "\n",
    "    layout = go.Layout(\n",
    "        scene=dict(\n",
    "            aspectmode='data',\n",
    "            camera=dict(eye=dict(x=1.25, y=1.25, z=1.25)),\n",
    "            xaxis=dict(\n",
    "                showgrid=False,\n",
    "                showline=False,\n",
    "                showticklabels=False,\n",
    "                showbackground=False,\n",
    "                title='',\n",
    "            ),\n",
    "            yaxis=dict(\n",
    "                showgrid=False,\n",
    "                showline=False,\n",
    "                showticklabels=False,\n",
    "                showbackground=False,\n",
    "                title='',\n",
    "            ),\n",
    "            zaxis=dict(\n",
    "                showgrid=False,\n",
    "                showline=False,\n",
    "                showticklabels=False,\n",
    "                showbackground=False,\n",
    "                title='',\n",
    "            ),\n",
    "            \n",
    "        )\n",
    "    )\n",
    "\n",
    "    fig = go.Figure(data=mesh, layout=layout)\n",
    "    fig.update_layout(width=700, height=700)\n",
    "    \n",
    "    # Show the figure\n",
    "    fig.show()\n",
    "    #iplot(fig)"
   ]
  },
  {
   "cell_type": "code",
   "execution_count": null,
   "metadata": {},
   "outputs": [],
   "source": [
    "room_index = 2\n",
    "path_input = f\"torch/output/1LXtFkjw3qL_room{room_index}__0__input-mesh.ply\"\n",
    "path_output = f\"torch/output/1LXtFkjw3qL_room{room_index}__0__pred-mesh.ply\"\n",
    "\n",
    "display_3d_model(path_input)\n",
    "display_3d_model(path_output)"
   ]
  },
  {
   "cell_type": "code",
   "execution_count": null,
   "metadata": {},
   "outputs": [],
   "source": []
  }
 ],
 "metadata": {
  "kernelspec": {
   "display_name": "Python 3 (ipykernel)",
   "language": "python",
   "name": "python3"
  },
  "language_info": {
   "codemirror_mode": {
    "name": "ipython",
    "version": 3
   },
   "file_extension": ".py",
   "mimetype": "text/x-python",
   "name": "python",
   "nbconvert_exporter": "python",
   "pygments_lexer": "ipython3",
   "version": "3.11.6"
  }
 },
 "nbformat": 4,
 "nbformat_minor": 5
}
